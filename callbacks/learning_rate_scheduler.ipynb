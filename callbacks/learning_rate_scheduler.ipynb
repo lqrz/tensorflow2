{
 "cells": [
  {
   "cell_type": "markdown",
   "metadata": {},
   "source": [
    "# Using the logs dictionary\n",
    "\n",
    "In this reading, we will learn how to take advantage of the `logs` dictionary in Keras to define our own callbacks and check the progress of a model."
   ]
  },
  {
   "cell_type": "code",
   "execution_count": 10,
   "metadata": {},
   "outputs": [
    {
     "name": "stdout",
     "output_type": "stream",
     "text": [
      "2.0.0\n"
     ]
    }
   ],
   "source": [
    "import tensorflow as tf\n",
    "from tensorflow.keras.models import Sequential\n",
    "from tensorflow.keras.layers import Dense\n",
    "from sklearn.datasets import load_diabetes\n",
    "from sklearn.model_selection import train_test_split\n",
    "\n",
    "print(tf.__version__)"
   ]
  },
  {
   "cell_type": "markdown",
   "metadata": {},
   "source": [
    "The `logs` dictionary stores the loss value, along with all of the metrics we are using at the end of a batch or epoch.\n",
    "\n",
    "We can incorporate information from the `logs` dictionary into our own custom callbacks.\n",
    "\n",
    "Let's see this in action in the context of a model we will construct and fit to the `sklearn` diabetes dataset that we have been using in this module.\n",
    "\n",
    "Let's first import the dataset, and split it into the training and test sets."
   ]
  },
  {
   "cell_type": "code",
   "execution_count": 6,
   "metadata": {},
   "outputs": [
    {
     "data": {
      "text/plain": [
       "dict_keys(['data', 'target', 'DESCR', 'feature_names', 'data_filename', 'target_filename'])"
      ]
     },
     "execution_count": 6,
     "metadata": {},
     "output_type": "execute_result"
    }
   ],
   "source": [
    "# Load the diabetes dataset\n",
    "\n",
    "diabetes_dataset = load_diabetes()\n",
    "diabetes_dataset.keys()"
   ]
  },
  {
   "cell_type": "code",
   "execution_count": 7,
   "metadata": {},
   "outputs": [],
   "source": [
    "# Save the input and target variables\n",
    "\n",
    "data = diabetes_dataset['data']\n",
    "targets = diabetes_dataset['target']"
   ]
  },
  {
   "cell_type": "code",
   "execution_count": 8,
   "metadata": {},
   "outputs": [],
   "source": [
    "# Split the data set into training and test sets\n",
    "\n",
    "train_data, test_data, train_targets, test_targets = train_test_split(data, targets, test_size=0.1)"
   ]
  },
  {
   "cell_type": "markdown",
   "metadata": {},
   "source": [
    "Now we construct our model."
   ]
  },
  {
   "cell_type": "code",
   "execution_count": 11,
   "metadata": {},
   "outputs": [],
   "source": [
    "# Build the model\n",
    "\n",
    "model = tf.keras.Sequential([\n",
    "    Dense(128, activation='relu', input_shape=(train_data.shape[1],)),\n",
    "    Dense(64,activation='relu'),\n",
    "    tf.keras.layers.BatchNormalization(),\n",
    "    Dense(64, activation='relu'),\n",
    "    Dense(64, activation='relu'),\n",
    "    Dense(1)        \n",
    "])"
   ]
  },
  {
   "cell_type": "markdown",
   "metadata": {},
   "source": [
    "We now compile the model, with\n",
    "* Mean squared error as the loss function,\n",
    "* the Adam optimizer, and \n",
    "* Mean absolute error (`mae`) as a metric."
   ]
  },
  {
   "cell_type": "code",
   "execution_count": 12,
   "metadata": {},
   "outputs": [],
   "source": [
    "# Compile the model\n",
    "    \n",
    "model.compile(loss='mse', optimizer=\"adam\", metrics=['mae'])"
   ]
  },
  {
   "cell_type": "markdown",
   "metadata": {},
   "source": [
    "### Defining a custom callback\n",
    "\n",
    "Now we define our custom callback using the `logs` dictionary to access the loss and metric values."
   ]
  },
  {
   "cell_type": "code",
   "execution_count": 13,
   "metadata": {},
   "outputs": [],
   "source": [
    "# Create the custom callback\n",
    "\n",
    "class LossAndMetricCallback(tf.keras.callbacks.Callback):\n",
    "\n",
    "    # Print the loss after every second batch in the training set\n",
    "    def on_train_batch_end(self, batch, logs=None):\n",
    "        if batch %2 ==0:\n",
    "            print('\\n After batch {}, the loss is {:7.2f}.'.format(batch, logs['loss']))\n",
    "    \n",
    "    # Print the loss after each batch in the test set\n",
    "    def on_test_batch_end(self, batch, logs=None):\n",
    "        print('\\n After batch {}, the loss is {:7.2f}.'.format(batch, logs['loss']))\n",
    "\n",
    "    # Print the loss and mean absolute error after each epoch\n",
    "    def on_epoch_end(self, epoch, logs=None):\n",
    "        print('Epoch {}: Average loss is {:7.2f}, mean absolute error is {:7.2f}.'.format(epoch, logs['loss'], logs['mae']))\n",
    "    \n",
    "    # Notify the user when prediction has finished on each batch\n",
    "    def on_predict_batch_end(self,batch, logs=None):\n",
    "        print(\"Finished prediction on batch {}!\".format(batch))"
   ]
  },
  {
   "cell_type": "markdown",
   "metadata": {},
   "source": [
    "We now fit the model to the data, and specify that we would like to use our custom callback `LossAndMetricCallback()`."
   ]
  },
  {
   "cell_type": "code",
   "execution_count": 15,
   "metadata": {
    "scrolled": true
   },
   "outputs": [
    {
     "name": "stdout",
     "output_type": "stream",
     "text": [
      "\n",
      " After batch 0, the loss is 28156.75.\n",
      "\n",
      " After batch 2, the loss is 28448.19.\n",
      "Epoch 0: Average loss is 28854.39, mean absolute error is  151.76.\n",
      "\n",
      " After batch 0, the loss is 30142.47.\n",
      "\n",
      " After batch 2, the loss is 26829.91.\n",
      "Epoch 1: Average loss is 28732.14, mean absolute error is  151.37.\n",
      "\n",
      " After batch 0, the loss is 26624.53.\n",
      "\n",
      " After batch 2, the loss is 29654.02.\n",
      "Epoch 2: Average loss is 28557.27, mean absolute error is  150.82.\n",
      "\n",
      " After batch 0, the loss is 27506.81.\n",
      "\n",
      " After batch 2, the loss is 29046.99.\n",
      "Epoch 3: Average loss is 28295.52, mean absolute error is  150.01.\n",
      "\n",
      " After batch 0, the loss is 30184.23.\n",
      "\n",
      " After batch 2, the loss is 27809.04.\n",
      "Epoch 4: Average loss is 27924.27, mean absolute error is  148.85.\n",
      "\n",
      " After batch 0, the loss is 27196.16.\n",
      "\n",
      " After batch 2, the loss is 27396.99.\n",
      "Epoch 5: Average loss is 27422.41, mean absolute error is  147.26.\n",
      "\n",
      " After batch 0, the loss is 29793.03.\n",
      "\n",
      " After batch 2, the loss is 28949.33.\n",
      "Epoch 6: Average loss is 26735.01, mean absolute error is  145.06.\n",
      "\n",
      " After batch 0, the loss is 29723.19.\n",
      "\n",
      " After batch 2, the loss is 22915.95.\n",
      "Epoch 7: Average loss is 25826.38, mean absolute error is  142.06.\n",
      "\n",
      " After batch 0, the loss is 24464.26.\n",
      "\n",
      " After batch 2, the loss is 25985.97.\n",
      "Epoch 8: Average loss is 24660.20, mean absolute error is  138.20.\n",
      "\n",
      " After batch 0, the loss is 26093.17.\n",
      "\n",
      " After batch 2, the loss is 19382.81.\n",
      "Epoch 9: Average loss is 23241.12, mean absolute error is  133.25.\n",
      "\n",
      " After batch 0, the loss is 22824.19.\n",
      "\n",
      " After batch 2, the loss is 21747.15.\n",
      "Epoch 10: Average loss is 21514.97, mean absolute error is  127.11.\n",
      "\n",
      " After batch 0, the loss is 23641.19.\n",
      "\n",
      " After batch 2, the loss is 23730.14.\n",
      "Epoch 11: Average loss is 19642.30, mean absolute error is  119.64.\n",
      "\n",
      " After batch 0, the loss is 17510.83.\n",
      "\n",
      " After batch 2, the loss is 16566.72.\n",
      "Epoch 12: Average loss is 17397.23, mean absolute error is  110.97.\n",
      "\n",
      " After batch 0, the loss is 15515.74.\n",
      "\n",
      " After batch 2, the loss is 13526.83.\n",
      "Epoch 13: Average loss is 15002.89, mean absolute error is  101.01.\n",
      "\n",
      " After batch 0, the loss is 16644.19.\n",
      "\n",
      " After batch 2, the loss is 9995.79.\n",
      "Epoch 14: Average loss is 12735.08, mean absolute error is   91.16.\n",
      "\n",
      " After batch 0, the loss is 11581.93.\n",
      "\n",
      " After batch 2, the loss is 12158.60.\n",
      "Epoch 15: Average loss is 10507.26, mean absolute error is   81.02.\n",
      "\n",
      " After batch 0, the loss is 9440.61.\n",
      "\n",
      " After batch 2, the loss is 8202.53.\n",
      "Epoch 16: Average loss is 8703.29, mean absolute error is   73.03.\n",
      "\n",
      " After batch 0, the loss is 8001.32.\n",
      "\n",
      " After batch 2, the loss is 7555.16.\n",
      "Epoch 17: Average loss is 7401.37, mean absolute error is   66.42.\n",
      "\n",
      " After batch 0, the loss is 6657.83.\n",
      "\n",
      " After batch 2, the loss is 6198.85.\n",
      "Epoch 18: Average loss is 6507.32, mean absolute error is   61.71.\n",
      "\n",
      " After batch 0, the loss is 5919.09.\n",
      "\n",
      " After batch 2, the loss is 7081.68.\n",
      "Epoch 19: Average loss is 6069.69, mean absolute error is   60.01.\n"
     ]
    }
   ],
   "source": [
    "# Train the model\n",
    "\n",
    "callbacks = [LossAndMetricCallback()]\n",
    "\n",
    "history = model.fit(train_data, train_targets, epochs=20, callbacks=callbacks, batch_size=100, verbose=False)"
   ]
  },
  {
   "cell_type": "markdown",
   "metadata": {},
   "source": [
    "We can also use our callback in the `evaluate` function..."
   ]
  },
  {
   "cell_type": "code",
   "execution_count": 16,
   "metadata": {},
   "outputs": [
    {
     "name": "stdout",
     "output_type": "stream",
     "text": [
      "\n",
      " After batch 0, the loss is 20280.97.\n",
      "\n",
      " After batch 1, the loss is 21651.29.\n",
      "\n",
      " After batch 2, the loss is 25240.91.\n",
      "\n",
      " After batch 3, the loss is 15848.97.\n",
      "\n",
      " After batch 4, the loss is 16182.26.\n"
     ]
    }
   ],
   "source": [
    "# Evaluate the model\n",
    "\n",
    "callbacks = [LossAndMetricCallback()]\n",
    "\n",
    "model_eval = model.evaluate(test_data, test_targets, batch_size=10, callbacks=callbacks, verbose=False)"
   ]
  },
  {
   "cell_type": "markdown",
   "metadata": {},
   "source": [
    "...And also the `predict` function."
   ]
  },
  {
   "cell_type": "code",
   "execution_count": 17,
   "metadata": {},
   "outputs": [
    {
     "name": "stdout",
     "output_type": "stream",
     "text": [
      "Finished prediction on batch 0!\n",
      "Finished prediction on batch 1!\n",
      "Finished prediction on batch 2!\n",
      "Finished prediction on batch 3!\n",
      "Finished prediction on batch 4!\n"
     ]
    }
   ],
   "source": [
    "# Get predictions from the model\n",
    "callbacks = [LossAndMetricCallback()]\n",
    "\n",
    "model_pred = model.predict(test_data, batch_size=10, callbacks=callbacks, verbose=False)"
   ]
  },
  {
   "cell_type": "markdown",
   "metadata": {},
   "source": [
    "### Application - learning rate scheduler\n",
    "Let's now look at a more sophisticated custom callback. \n",
    "\n",
    "We are going to define a callback to change the learning rate of the optimiser of a model during training. We will do this by specifying the epochs and new learning rates where we would like it to be changed.\n",
    "\n",
    "First we define the auxillary function that returns the learning rate for each epoch based on our schedule."
   ]
  },
  {
   "cell_type": "code",
   "execution_count": 18,
   "metadata": {},
   "outputs": [],
   "source": [
    "# Define the learning rate schedule. The tuples below are (start_epoch, new_learning_rate)\n",
    "\n",
    "lr_schedule = [\n",
    "    (4, .03),\n",
    "    (7, .02),\n",
    "    (11, .005),\n",
    "    (15, .007)\n",
    "]\n",
    "\n",
    "def get_new_epoch_lr(epoch, lr):\n",
    "    # Checks to see if the input epoch is listed in the learning rate schedule \n",
    "    # and if so, returns index in lr_schedule\n",
    "    epoch_in_sched = [i for i in range(len(lr_schedule)) if lr_schedule[i][0]==int(epoch)]\n",
    "    if len(epoch_in_sched)>0:\n",
    "        # If it is, return the learning rate corresponding to the epoch\n",
    "        return lr_schedule[epoch_in_sched[0]][1]\n",
    "    else:\n",
    "        # Otherwise, return the existing learning rate\n",
    "        return lr"
   ]
  },
  {
   "cell_type": "markdown",
   "metadata": {},
   "source": [
    "Let's now define the callback itself."
   ]
  },
  {
   "cell_type": "code",
   "execution_count": 19,
   "metadata": {},
   "outputs": [],
   "source": [
    "# Define the custom callback\n",
    "\n",
    "class LRScheduler(tf.keras.callbacks.Callback):\n",
    "    \n",
    "    def __init__(self, new_lr):\n",
    "        super(LRScheduler, self).__init__()\n",
    "        # Add the new learning rate function to our callback\n",
    "        self.new_lr = new_lr\n",
    "\n",
    "    def on_epoch_begin(self, epoch, logs=None):\n",
    "        # Make sure that the optimizer we have chosen has a learning rate, and raise an error if not\n",
    "        if not hasattr(self.model.optimizer, 'lr'):\n",
    "              raise ValueError('Error: Optimizer does not have a learning rate.')\n",
    "                \n",
    "        # Get the current learning rate\n",
    "        curr_rate = float(tf.keras.backend.get_value(self.model.optimizer.lr))\n",
    "        \n",
    "        # Call the auxillary function to get the scheduled learning rate for the current epoch\n",
    "        scheduled_rate = self.new_lr(epoch, curr_rate)\n",
    "\n",
    "        # Set the learning rate to the scheduled learning rate\n",
    "        tf.keras.backend.set_value(self.model.optimizer.lr, scheduled_rate)\n",
    "        print('Learning rate for epoch {} is {:7.3f}'.format(epoch, scheduled_rate))"
   ]
  },
  {
   "cell_type": "markdown",
   "metadata": {},
   "source": [
    "Let's now train the model again with our new callback. "
   ]
  },
  {
   "cell_type": "code",
   "execution_count": 20,
   "metadata": {},
   "outputs": [],
   "source": [
    "# Build the same model as before\n",
    "\n",
    "new_model = tf.keras.Sequential([\n",
    "    Dense(128, activation='relu', input_shape=(train_data.shape[1],)),\n",
    "    Dense(64,activation='relu'),\n",
    "    tf.keras.layers.BatchNormalization(),\n",
    "    Dense(64, activation='relu'),\n",
    "    Dense(64, activation='relu'),\n",
    "    Dense(1)        \n",
    "])"
   ]
  },
  {
   "cell_type": "code",
   "execution_count": 21,
   "metadata": {},
   "outputs": [],
   "source": [
    "# Compile the model\n",
    "\n",
    "new_model.compile(loss='mse', optimizer=\"adam\", metrics=['mae', 'mse'])"
   ]
  },
  {
   "cell_type": "code",
   "execution_count": null,
   "metadata": {},
   "outputs": [
    {
     "name": "stdout",
     "output_type": "stream",
     "text": [
      "Learning rate for epoch 0 is   0.001\n",
      "Learning rate for epoch 1 is   0.001\n",
      "Learning rate for epoch 2 is   0.001\n",
      "Learning rate for epoch 3 is   0.001\n",
      "Learning rate for epoch 4 is   0.030\n",
      "Learning rate for epoch 5 is   0.030\n",
      "Learning rate for epoch 6 is   0.030\n",
      "Learning rate for epoch 7 is   0.020\n",
      "Learning rate for epoch 8 is   0.020\n",
      "Learning rate for epoch 9 is   0.020\n",
      "Learning rate for epoch 10 is   0.020\n",
      "Learning rate for epoch 11 is   0.005\n",
      "Learning rate for epoch 12 is   0.005\n",
      "Learning rate for epoch 13 is   0.005\n",
      "Learning rate for epoch 14 is   0.005\n",
      "Learning rate for epoch 15 is   0.007\n",
      "Learning rate for epoch 16 is   0.007\n"
     ]
    }
   ],
   "source": [
    "# Fit the model with our learning rate scheduler callback\n",
    "callbacks = [LRScheduler(get_new_epoch_lr)]\n",
    "\n",
    "new_history = new_model.fit(train_data, train_targets, epochs=20, callbacks=callbacks, batch_size=100, verbose=False)"
   ]
  },
  {
   "cell_type": "markdown",
   "metadata": {},
   "source": [
    "### Further reading and resources\n",
    "* https://www.tensorflow.org/guide/keras/custom_callback\n",
    "* https://www.tensorflow.org/api_docs/python/tf/keras/callbacks/Callback"
   ]
  }
 ],
 "metadata": {
  "kernelspec": {
   "display_name": "Python 3",
   "language": "python",
   "name": "python3"
  },
  "language_info": {
   "codemirror_mode": {
    "name": "ipython",
    "version": 3
   },
   "file_extension": ".py",
   "mimetype": "text/x-python",
   "name": "python",
   "nbconvert_exporter": "python",
   "pygments_lexer": "ipython3",
   "version": "3.7.1"
  }
 },
 "nbformat": 4,
 "nbformat_minor": 2
}
